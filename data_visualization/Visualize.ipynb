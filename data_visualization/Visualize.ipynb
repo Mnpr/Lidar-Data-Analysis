{
 "cells": [
  {
   "cell_type": "markdown",
   "metadata": {},
   "source": [
    "`!pip install open3d`"
   ]
  },
  {
   "cell_type": "code",
   "execution_count": 1,
   "metadata": {},
   "outputs": [
    {
     "name": "stdout",
     "output_type": "stream",
     "text": [
      "Jupyter environment detected. Enabling Open3D WebVisualizer.\n",
      "[Open3D INFO] WebRTC GUI backend enabled.\n",
      "[Open3D INFO] WebRTCWindowSystem: HTTP handshake server disabled.\n"
     ]
    }
   ],
   "source": [
    "\n",
    "import numpy as np\n",
    "import open3d as o3d"
   ]
  },
  {
   "cell_type": "code",
   "execution_count": 2,
   "metadata": {},
   "outputs": [
    {
     "name": "stdout",
     "output_type": "stream",
     "text": [
      "PointCloud with 28928 points.\n"
     ]
    }
   ],
   "source": [
    "pcd = o3d.io.read_point_cloud('../data/pcd_txt/velodynevlp16/data_pcl/99_frame_378130.386928.pcd')\n",
    "print(pcd)"
   ]
  },
  {
   "cell_type": "code",
   "execution_count": 7,
   "metadata": {},
   "outputs": [
    {
     "name": "stdout",
     "output_type": "stream",
     "text": [
      "(28928, 3)\n"
     ]
    }
   ],
   "source": [
    "print(np.asarray(pcd.points).shape)\n",
    "o3d.visualization.draw_geometries([pcd])"
   ]
  },
  {
   "cell_type": "code",
   "execution_count": 5,
   "metadata": {},
   "outputs": [
    {
     "name": "stdout",
     "output_type": "stream",
     "text": [
      "PointCloud with 18336 points.\n"
     ]
    }
   ],
   "source": [
    "downpcd = pcd.voxel_down_sample(voxel_size=0.001)\n",
    "o3d.visualization.draw_geometries([downpcd])\n",
    "print(downpcd)"
   ]
  },
  {
   "cell_type": "code",
   "execution_count": 6,
   "metadata": {},
   "outputs": [],
   "source": [
    "downpcd.estimate_normals(search_param=o3d.geometry.KDTreeSearchParamHybrid(radius=0.1, max_nn=30))\n",
    "o3d.visualization.draw_geometries([downpcd])"
   ]
  },
  {
   "cell_type": "code",
   "execution_count": 6,
   "metadata": {},
   "outputs": [
    {
     "name": "stdout",
     "output_type": "stream",
     "text": [
      "std::vector<Eigen::Vector3d> with 4777 elements.\n",
      "Use numpy.asarray() to access data.\n",
      "Print the normal vectors of the first 10 points\n",
      "[[ 0.          0.          1.        ]\n",
      " [ 0.          0.          1.        ]\n",
      " [ 0.          0.          1.        ]\n",
      " [ 0.          0.          1.        ]\n",
      " [ 0.          0.          1.        ]\n",
      " [ 0.          0.          1.        ]\n",
      " [ 0.          0.          1.        ]\n",
      " [ 0.          0.          1.        ]\n",
      " [ 0.          0.          1.        ]\n",
      " [ 0.00521044 -0.05806437 -0.99829924]]\n"
     ]
    }
   ],
   "source": [
    "print(downpcd.normals)\n",
    "print(\"Print the normal vectors of the first 10 points\")\n",
    "print(np.asarray(downpcd.normals)[:10, :])"
   ]
  },
  {
   "cell_type": "markdown",
   "metadata": {},
   "source": [
    "***"
   ]
  }
 ],
 "metadata": {
  "interpreter": {
   "hash": "5bab4697206ca8e7dfa7e20eea72c68427ed8fb6e03d3f0dda8b27be0e4ab98f"
  },
  "kernelspec": {
   "display_name": "Python 3.8.12 64-bit ('exp': conda)",
   "name": "python3"
  },
  "language_info": {
   "codemirror_mode": {
    "name": "ipython",
    "version": 3
   },
   "file_extension": ".py",
   "mimetype": "text/x-python",
   "name": "python",
   "nbconvert_exporter": "python",
   "pygments_lexer": "ipython3",
   "version": "3.8.12"
  },
  "orig_nbformat": 4
 },
 "nbformat": 4,
 "nbformat_minor": 2
}
